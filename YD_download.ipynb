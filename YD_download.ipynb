{
  "nbformat": 4,
  "nbformat_minor": 0,
  "metadata": {
    "colab": {
      "provenance": []
    },
    "kernelspec": {
      "name": "python3",
      "display_name": "Python 3"
    },
    "language_info": {
      "name": "python"
    }
  },
  "cells": [
    {
      "cell_type": "markdown",
      "source": [
        "1. Загрузка библиотек\n",
        "2. Создание папки row_data для выгрузки сырых данных\n",
        "3. Проверка последней даты в базе данных\n",
        "4. Выгрузка сырых данных в папку row_data\n",
        "5. Обработка данных\n",
        "6. Выгрузка данных в базу\n",
        "7. Удаление файла из папки row_data"
      ],
      "metadata": {
        "id": "wBQ4sMyGmQ5p"
      }
    },
    {
      "cell_type": "code",
      "source": [
        "pip install mysql-connector-python"
      ],
      "metadata": {
        "colab": {
          "base_uri": "https://localhost:8080/"
        },
        "id": "9CYHdu4pTTZ5",
        "outputId": "12e5ff34-03c0-45b5-bcfe-3546ba2ee443"
      },
      "execution_count": 5,
      "outputs": [
        {
          "output_type": "stream",
          "name": "stdout",
          "text": [
            "Collecting mysql-connector-python\n",
            "  Downloading mysql_connector_python-9.3.0-cp311-cp311-manylinux_2_28_x86_64.whl.metadata (7.2 kB)\n",
            "Downloading mysql_connector_python-9.3.0-cp311-cp311-manylinux_2_28_x86_64.whl (33.9 MB)\n",
            "\u001b[2K   \u001b[90m━━━━━━━━━━━━━━━━━━━━━━━━━━━━━━━━━━━━━━━━\u001b[0m \u001b[32m33.9/33.9 MB\u001b[0m \u001b[31m25.7 MB/s\u001b[0m eta \u001b[36m0:00:00\u001b[0m\n",
            "\u001b[?25hInstalling collected packages: mysql-connector-python\n",
            "Successfully installed mysql-connector-python-9.3.0\n"
          ]
        }
      ]
    },
    {
      "cell_type": "code",
      "execution_count": 6,
      "metadata": {
        "id": "47eqsuahlto9"
      },
      "outputs": [],
      "source": [
        "import os\n",
        "import pandas as pd\n",
        "import requests\n",
        "import datetime\n",
        "import sqlalchemy\n",
        "import json\n",
        "import sys\n",
        "from time import sleep\n",
        "from sqlalchemy import create_engine, text\n",
        "from urllib.parse import quote_plus # для экранирования спецсимволов: ! * %"
      ]
    },
    {
      "cell_type": "code",
      "source": [
        "# создаём папку (если её ранее не было) для выгрузки сырых данных из Директа\n",
        "row_data = 'row_data'\n",
        "\n",
        "path = os.path.join(os.getcwd(), row_data)\n",
        "if not os.path.exists(path):\n",
        "  os.mkdir(row_data)\n"
      ],
      "metadata": {
        "id": "frr3esVKmJdB"
      },
      "execution_count": 7,
      "outputs": []
    },
    {
      "cell_type": "code",
      "source": [
        "# Адрес сервиса Reports для отправки JSON-запросов\n",
        "ReportsURL = 'https://api.direct.yandex.com/json/v5/reports'"
      ],
      "metadata": {
        "id": "Kr0jMuYEqKnz"
      },
      "execution_count": 8,
      "outputs": []
    },
    {
      "cell_type": "markdown",
      "source": [
        "### Создание подключения к базе данных"
      ],
      "metadata": {
        "id": "WxHmoU-KyBgv"
      }
    },
    {
      "cell_type": "code",
      "source": [
        "# Параметры подключения\n",
        "host = \"actual_host\"\n",
        "port = 3306\n",
        "user = \"actual_user\"\n",
        "password = \"actual_password\"\n",
        "database = \"actual_database\"\n",
        "\n",
        "# Кодируем пароль\n",
        "encoded_password = quote_plus(password)\n",
        "\n",
        "# Создаем строку подключения\n",
        "connection_string = f\"mysql+mysqlconnector://{user}:{encoded_password}@{host}:{port}/{database}\"\n",
        "\n",
        "try:\n",
        "    engine = create_engine(connection_string)\n",
        "    with engine.connect() as connection:\n",
        "        print('Подключение успешно установлено!')\n",
        "except Exception as e:\n",
        "  with open('log.txt', 'a') as f:\n",
        "    print(f' при подключении к базе данных, Error: {e}')\n"
      ],
      "metadata": {
        "id": "KYjos19IyB4g",
        "colab": {
          "base_uri": "https://localhost:8080/"
        },
        "outputId": "aec3af17-eae3-42b2-80d1-eb5abad605f7"
      },
      "execution_count": 9,
      "outputs": [
        {
          "output_type": "stream",
          "name": "stdout",
          "text": [
            "Подключение успешно установлено!\n"
          ]
        }
      ]
    },
    {
      "cell_type": "markdown",
      "source": [
        "### Функция для запроса данных из базы"
      ],
      "metadata": {
        "id": "bpUfiPfxyayv"
      }
    },
    {
      "cell_type": "code",
      "source": [
        "# Функция для упрощения запросов к базе\n",
        "def db_query(query):\n",
        "    with engine.connect() as connection:\n",
        "        return pd.read_sql(query, connection)"
      ],
      "metadata": {
        "id": "BZGdSwi6ybA4"
      },
      "execution_count": 10,
      "outputs": []
    },
    {
      "cell_type": "code",
      "source": [
        "# Получаем максимальную дату, по которым есть данные в базе\n",
        "query = \"\"\" Select max(Date)\n",
        "From allopizza_yd_jetstat\"\"\"\n",
        "\n",
        "max_date = db_query(query)\n",
        "\n",
        "# Определяем даты для загрузки данных\n",
        "yesterday = datetime.date.today() - datetime.timedelta(days = 1)\n",
        "\n",
        "flag = False # флаг для определения наличия новых данных для выгрузки\n",
        "\n",
        "if yesterday < max_date.iloc[0,0]:\n",
        "  flag = True # флаг для определения наличия новых данных для выгрузки\n",
        "  dateS = datetime.datetime.strftime((max_date.iloc[0,0] + datetime.timedelta(days = 1)), format) # дата начала выгружаемого периода start date\n",
        "  dateE = datetime.datetime.strftime(yesterday, format) # дата окончания выгружемого периода end date\n",
        "  print(f'Current time: {datetime.datetime.now().strftime(\"%d-%m-%Y %H:%M:%S\")} Есть новые данные для выгрузки')\n",
        "else:\n",
        "  print(f'Current time: {datetime.datetime.now().strftime(\"%d-%m-%Y %H:%M:%S\")} Нет новых данных для выгрузки')"
      ],
      "metadata": {
        "id": "fmapadOLZHgF"
      },
      "execution_count": null,
      "outputs": []
    },
    {
      "cell_type": "markdown",
      "source": [],
      "metadata": {
        "id": "aDQrxYhziUep"
      }
    },
    {
      "cell_type": "markdown",
      "source": [
        "# Вспомогательные функции"
      ],
      "metadata": {
        "id": "Zbto2cy6h1Y6"
      }
    },
    {
      "cell_type": "markdown",
      "source": [
        "# Функция для создания запроса к API Direct"
      ],
      "metadata": {
        "id": "FQx0DS9nfzzH"
      }
    },
    {
      "cell_type": "code",
      "source": [
        "# Входные данные\n",
        "# Адрес сервиса Reports для отправки JSON-запросов\n",
        "ReportsURL = 'https://api.direct.yandex.com/json/v5/reports'\n",
        "\n",
        "# Функция для создания запроса\n",
        "def create_request(token:str, сlientLogin:str, dateS:str, dateE:str):\n",
        "\n",
        "  #  Подготовка к запросу\n",
        "  #  Создание заголовка HTTP запроса\n",
        "  headers = {\n",
        "      # OAuth-токен. Слово \"Bearer\" обязательно к использованию\n",
        "      \"Authorization\": \"Bearer \" + token,\n",
        "      # Логин клиента рекламного агентства\n",
        "      \"Client-Login\": сlientLogin,\n",
        "      # Язык ответных сообщений\n",
        "      \"Accept-Language\": \"en\",\n",
        "      # Режим формирования отчета: online, offline или auto.\n",
        "      \"processingMode\": \"auto\",\n",
        "      # Формат денежных значений в отчете\n",
        "      \"returnMoneyInMicros\": \"false\",\n",
        "      # Не выводить в отчете строку с названием отчета и диапазоном дат\n",
        "      \"skipReportHeader\": \"true\",\n",
        "      # Не выводить в отчете строку с названиями полей.\n",
        "      \"skipColumnHeader\": \"false\",\n",
        "      # Не выводить в отчете строку с количеством строк статистики.\n",
        "      \"skipReportSummary\": \"true\"\n",
        "  }\n",
        "\n",
        "  # Создание тела запроса\n",
        "\n",
        "  body = {\n",
        "          \"params\": {\n",
        "              \"SelectionCriteria\": {\n",
        "                  \"DateFrom\": dateS,\n",
        "                  \"DateTo\": dateE\n",
        "              },\n",
        "              \"Goals\": [\"3030778008\", \"311574500\", \"311574248\" ], # укажите номера целей из Метрики\n",
        "              \"AttributionModels\": [\"LSC\"],\n",
        "              \"FieldNames\": [\n",
        "                  \"Date\",\n",
        "                  \"CampaignName\",\n",
        "                  \"CampaignId\",\n",
        "                  \"Criterion\",\n",
        "                  \"AdNetworkType\",\n",
        "                  \"AdFormat\",\n",
        "                  \"Device\",\n",
        "                  \"Placement\",\n",
        "                  \"Slot\",\n",
        "                  \"Impressions\",\n",
        "                  \"Clicks\",\n",
        "                  \"Cost\",\n",
        "                  \"AvgClickPosition\",\n",
        "                  \"AvgImpressionPosition\",\n",
        "                  \"Conversions\",\n",
        "              ],\n",
        "              \"ReportName\": \"Request6\" + dateS,\n",
        "              \"Page\": {\n",
        "                  \"Limit\": 10000000\n",
        "              },\n",
        "              \"ReportType\": \"CUSTOM_REPORT\",\n",
        "              \"DateRangeType\": \"CUSTOM_DATE\",\n",
        "              \"Format\": \"TSV\",\n",
        "              \"IncludeVAT\": \"YES\",\n",
        "              \"IncludeDiscount\": \"NO\"\n",
        "          }\n",
        "      }\n",
        "\n",
        "  body = json.dumps(body, indent=4)\n",
        "  return body, headers"
      ],
      "metadata": {
        "id": "JOwiKaVpf0uM"
      },
      "execution_count": 43,
      "outputs": []
    },
    {
      "cell_type": "markdown",
      "source": [
        "#### Функция для отправки запроса к API Direct"
      ],
      "metadata": {
        "id": "FqOWsSxskOYm"
      }
    },
    {
      "cell_type": "code",
      "source": [
        "# Функция для отправки запроса\n",
        "def send_request(token:str, сlientLogin:str, clientName,  dateS:str, dateE:str,path=path):\n",
        "  \"\"\" token - токен полученный в Яндексе (нужно создать приложение в Яндексе и далее по инструкци),\n",
        "  client_login -  логин клиента в Директе, clientName - можете дать любое название того, что выгружаете\n",
        "  \"\"\"\n",
        "\n",
        "  body, headers = create_request(token,сlientLogin, dateS,dateE)\n",
        "\n",
        "  # Цикл передачи запроса и обработка ответа от сервера\n",
        "  while True:\n",
        "      try:\n",
        "          req = requests.post(ReportsURL, body, headers=headers)\n",
        "          req.encoding = 'utf-8'  # Принудительная обработка ответа в кодировке UTF-8\n",
        "          if req.status_code == 400:\n",
        "              #print(\"Параметры запроса указаны неверно или достигнут лимит отчетов в очереди\")\n",
        "              #print(\"RequestId: {}\".format(req.headers.get(\"RequestId\", False)))\n",
        "              #print(\"JSON-код запроса: {}\".format(u(body)))\n",
        "              #print(\"JSON-код ответа сервера: \\n{}\".format(u(req.json())))\n",
        "              break\n",
        "          elif req.status_code == 200:\n",
        "              #print(\"Отчет создан успешно\")\n",
        "              #print(\"RequestId: {}\".format(req.headers.get(\"RequestId\", False)))\n",
        "              # print(\"Содержание отчета: \\n{}\".format(u(req.text)))\n",
        "              break\n",
        "          elif req.status_code == 201:\n",
        "              #print(\"Отчет успешно поставлен в очередь в режиме офлайн\")\n",
        "              retryIn = int(req.headers.get(\"retryIn\", 60))\n",
        "              #print(\"Повторная отправка запроса через {} секунд\".format('60'))\n",
        "              #print(\"RequestId: {}\".format(req.headers.get(\"RequestId\", False)))\n",
        "              sleep(60)\n",
        "          elif req.status_code == 202:\n",
        "              #print(\"Отчет формируется в режиме офлайн\")\n",
        "              retryIn = int(req.headers.get(\"retryIn\", 60))\n",
        "              #print(\"Повторная отправка запроса через {} секунд\".format(retryIn))\n",
        "              #print(\"RequestId:  {}\".format(req.headers.get(\"RequestId\", False)))\n",
        "              sleep(retryIn)\n",
        "          elif req.status_code == 500:\n",
        "              #print(\"При формировании отчета произошла ошибка. Пожалуйста, попробуйте повторить запрос позднее\")\n",
        "              #print(\"RequestId: {}\".format(req.headers.get(\"RequestId\", False)))\n",
        "              #print(\"JSON-код ответа сервера: \\n{}\".format(u(req.json())))\n",
        "              break\n",
        "          elif req.status_code == 502:\n",
        "              #print(\"Время формирования отчета превысило серверное ограничение.\")\n",
        "              #print(\"Пожалуйста, попробуйте изменить параметры запроса - уменьшить период и количество запрашиваемых данных.\")\n",
        "              #print(\"JSON-код запроса: {}\".format(body))\n",
        "              #print(\"RequestId: {}\".format(req.headers.get(\"RequestId\", False)))\n",
        "              #print(\"JSON-код ответа сервера: \\n{}\".format(u(req.json())))\n",
        "              break\n",
        "\n",
        "          else:\n",
        "              #print(\"Произошла непредвиденная ошибка\")\n",
        "              #print(\"RequestId:  {}\".format(req.headers.get(\"RequestId\", False)))\n",
        "              #print(\"JSON-код запроса: {}\".format(body))\n",
        "              #print(\"JSON-код ответа сервера: \\n{}\".format(u(req.json())))\n",
        "              break\n",
        "\n",
        "  # Обработка ошибки, если не удалось соединиться с сервером API Директа\n",
        "      except ConnectionError as e:\n",
        "          # В данном случае мы рекомендуем повторить запрос позднее\n",
        "          #print(\"Произошла ошибка соединения с сервером API\")\n",
        "          # Принудительный выход из цикла\n",
        "          break\n",
        "\n",
        "          # Если возникла какая-либо другая ошибка\n",
        "      except Exception as e:\n",
        "          # В данном случае мы рекомендуем проанализировать действия приложения\n",
        "          #print(\"Произошла непредвиденная ошибка\")\n",
        "          # Принудительный выход из цикла\n",
        "          break\n",
        "\n",
        "  # Запись данных в файл формата TSV\n",
        "  with open((os.path.join(path, clientName + '_' + dateS + '-' + dateE + '.tsv')), 'w', encoding=\"utf-8\") as f:\n",
        "    f.write(req.text)\n",
        "\n",
        "  # Запись полученного файла с данными в датафрейм df1\n",
        "  df1 = pd.read_csv(os.path.join(path, clientName + '_' + dateS + '-' + dateE + '.tsv'), sep=\"\\t\",\n",
        "                    dtype={\"AdGroupId\": str})\n",
        "\n",
        "\n",
        "  return df1"
      ],
      "metadata": {
        "id": "U6VVpCGVkOi_"
      },
      "execution_count": 44,
      "outputs": []
    },
    {
      "cell_type": "markdown",
      "source": [
        "#### Функция для преобразования исходного датафрема в нужный формат для загрузки в базу данных"
      ],
      "metadata": {
        "id": "vAzpA2TS0d5d"
      }
    },
    {
      "cell_type": "code",
      "source": [
        "#### df1 to df2 transoform\n",
        "def df_prepare(df1):\n",
        "  df2 = pd.DataFrame({\n",
        "      'Date': df1['Date'],\n",
        "      'CampaignName': df1['CampaignName'],\n",
        "      'CampaignId': df1['CampaignId'],\n",
        "      'Criterion': df1['Criterion'],\n",
        "      'AdNetworkType': df1['AdNetworkType'],\n",
        "      'AdFormat':df1['AdFormat'],\n",
        "      'Device': df1['Device'],\n",
        "      'Placement': df1['Placement'],\n",
        "      'Slot': df1['Slot'],\n",
        "      'Impressions': df1['Impressions'],\n",
        "      'Clicks': df1['Clicks'],\n",
        "      'Cost': df1['Cost'],\n",
        "      'AvgClickPosition': df1['AvgClickPosition'],\n",
        "      'AvgImpressionPosition': df1['AvgImpressionPosition'],\n",
        "      'Ecommerce_purchase_3030778008': df1['Conversions_3030778008_LSC'],\n",
        "      'Call_calltouch_311574500': df1['Conversions_311574500_LSC'],\n",
        "      'Unique_call_calltouch_': df1['Conversions_311574248_LSC']})\n",
        "  return df2"
      ],
      "metadata": {
        "id": "G4oaCXHq0eCk"
      },
      "execution_count": 45,
      "outputs": []
    },
    {
      "cell_type": "markdown",
      "source": [
        "#### Выгрузка данных Директа в папку row_data"
      ],
      "metadata": {
        "id": "melstS_YnKUO"
      }
    },
    {
      "cell_type": "code",
      "source": [
        "# OAuth-токен пользователя, от имени которого будут выполняться запросы\n",
        "token = 'actual_token'\n",
        "clientLogin = 'Direct_login_actual' # догин клиента в аккаунте Директа\n",
        "clientName = 'any_name_you_want'\n",
        "\n",
        "if flag:\n",
        "  try:\n",
        "    df = send_request(token, clientLogin, clientName, dateS, dateE, path=path)\n",
        "    print('Данные по клиету загружены на диск')\n",
        "  except:\n",
        "    df = send_request(token, clientLogin, clientName, dateS, dateE, path=path) # повтрный запрос, если первый не прошёл\n",
        "  else:\n",
        "    print(f'Current time: {datetime.datetime.now().strftime(\"%d-%m-%Y %H:%M:%S\")}, Данные загрузить не удалось.')\n"
      ],
      "metadata": {
        "id": "KpEaWf5onbfO"
      },
      "execution_count": null,
      "outputs": []
    },
    {
      "cell_type": "markdown",
      "source": [
        "#### Функция для отправки данных в базу данных"
      ],
      "metadata": {
        "id": "sSKIfOUp4uDz"
      }
    },
    {
      "cell_type": "code",
      "source": [
        "def perform_db_task(df, table_name: str): # функция для загрузки данных с диска в базу\n",
        "  \"\"\" table_name - название таблицы в базе данных\"\"\"\n",
        "  try:\n",
        "    df.to_sql(table_name, con=engine, if_exists='append', index=False, chunksize=1000)\n",
        "    print(f'Current time: {datetime.datetime.now().strftime(\"%d-%m-%Y %H:%M:%S\")} Данные {table_name} успешно добавлены.', file=f)\n",
        "  except Exception as e:\n",
        "    print(f'Current time: {datetime.datetime.now().strftime(\"%d-%m-%Y %H:%M:%S\")} Ошибка при добавлении данных в базу: {e}', file=f)"
      ],
      "metadata": {
        "id": "wodRy9kF4uNo"
      },
      "execution_count": 51,
      "outputs": []
    },
    {
      "cell_type": "markdown",
      "source": [
        "#### Выгрузка из папки row_date в базу"
      ],
      "metadata": {
        "id": "uxWOBWZH5HVO"
      }
    },
    {
      "cell_type": "code",
      "source": [
        "# Выгрузка в базу  из папки\n",
        "files = os.listdir(path)\n",
        "table_name = 'db_table_name' # название таблицы в базе данных, которая существует или которую хотите создать\n",
        "\n",
        "for i in files:\n",
        "  df = pd.read_csv(os.path.join(path, i), sep='\\t')\n",
        "  df = df_prepare(df)\n",
        "  try:\n",
        "    perform_db_task(df, table_name)\n",
        "    print(f'Current time: {datetime.datetime.now().strftime(\"%d-%m-%Y %H:%M:%S\")}, Выгрузка данных из файла {i} в базу прошла с первого раза', file=f)\n",
        "  except:\n",
        "    try:\n",
        "      perform_db_task(df, table_name)\n",
        "      print(f'Current time: {datetime.datetime.now().strftime(\"%d-%m-%Y %H:%M:%S\")}, Выгрузка данных из файла {i} в базу прошла со второго раза', file=f)\n",
        "    except Exception as e:\n",
        "      print(f'Current time: {datetime.datetime.now().strftime(\"%d-%m-%Y %H:%M:%S\")},!! Выгрузка данных из файла {i} в базу не прошла,  Error: {e}', file=f)\n"
      ],
      "metadata": {
        "id": "Ys0Voqmv5Hdy"
      },
      "execution_count": null,
      "outputs": []
    },
    {
      "cell_type": "markdown",
      "source": [
        "#### Удаление сырых данных из папки row_data, если необходимо"
      ],
      "metadata": {
        "id": "u_i7gxK0XUY8"
      }
    },
    {
      "cell_type": "code",
      "source": [
        "for i in os.listdir(path):\n",
        "    file_path = os.path.join(path, i)\n",
        "    if os.path.isfile(file_path):\n",
        "        os.remove(file_path)"
      ],
      "metadata": {
        "id": "TDjSTkveXc_9"
      },
      "execution_count": null,
      "outputs": []
    }
  ]
}